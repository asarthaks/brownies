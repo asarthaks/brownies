{
 "cells": [
  {
   "cell_type": "code",
   "execution_count": 1,
   "id": "cf28e3d3-e0d1-4f4e-ab4a-398395d14e2a",
   "metadata": {},
   "outputs": [],
   "source": [
    "import requests\n",
    "from bs4 import BeautifulSoup\n",
    "from lxml import etree\n",
    "\n"
   ]
  },
  {
   "cell_type": "code",
   "execution_count": 2,
   "id": "aca6d4c2-34ee-468f-a2b4-86d7ff240e5a",
   "metadata": {},
   "outputs": [
    {
     "name": "stdout",
     "output_type": "stream",
     "text": [
      "[]\n"
     ]
    }
   ],
   "source": [
    "response = requests.get(\"https://tastesbetterfromscratch.com/spaetzle/\")\n",
    "soup = BeautifulSoup(response.content, 'html.parser')\n",
    "body = soup.find(\"body\")\n",
    "\n",
    "dom = etree.HTML(str(body)) # Parse the HTML content of the page\n",
    "xpath_str = '//ul[class=\"wprm-recipe-ingredients\"]' # The XPath expression for the blog's title\n",
    "print(dom.xpath(xpath_str))"
   ]
  },
  {
   "cell_type": "code",
   "execution_count": 3,
   "id": "a20dc4a3-b91a-4ebb-bfed-2c1d9bc0dbf9",
   "metadata": {},
   "outputs": [
    {
     "data": {
      "text/plain": [
       "<body>\n",
       "<div id=\"cf-wrapper\">\n",
       "<div class=\"cf-alert cf-alert-error cf-cookie-error\" data-translate=\"enable_cookies\" id=\"cookie-alert\">Please enable cookies.</div>\n",
       "<div class=\"cf-error-details-wrapper\" id=\"cf-error-details\">\n",
       "<div class=\"cf-wrapper cf-header cf-error-overview\">\n",
       "<h1 data-translate=\"block_headline\">Sorry, you have been blocked</h1>\n",
       "<h2 class=\"cf-subheadline\"><span data-translate=\"unable_to_access\">You are unable to access</span> dns1.nerdpress.net</h2>\n",
       "</div><!-- /.header -->\n",
       "<div class=\"cf-section cf-highlight\">\n",
       "<div class=\"cf-wrapper\">\n",
       "<div class=\"cf-screenshot-container cf-screenshot-full\">\n",
       "<span class=\"cf-no-screenshot error\"></span>\n",
       "</div>\n",
       "</div>\n",
       "</div><!-- /.captcha-container -->\n",
       "<div class=\"cf-section cf-wrapper\">\n",
       "<div class=\"cf-columns two\">\n",
       "<div class=\"cf-column\">\n",
       "<h2 data-translate=\"blocked_why_headline\">Why have I been blocked?</h2>\n",
       "<p data-translate=\"blocked_why_detail\">This website is using a security service to protect itself from online attacks. The action you just performed triggered the security solution. There are several actions that could trigger this block including submitting a certain word or phrase, a SQL command or malformed data.</p>\n",
       "</div>\n",
       "<div class=\"cf-column\">\n",
       "<h2 data-translate=\"blocked_resolve_headline\">What can I do to resolve this?</h2>\n",
       "<p data-translate=\"blocked_resolve_detail\">You can email the site owner to let them know you were blocked. Please include what you were doing when this page came up and the Cloudflare Ray ID found at the bottom of this page.</p>\n",
       "</div>\n",
       "</div>\n",
       "</div><!-- /.section -->\n",
       "<div class=\"cf-error-footer cf-wrapper w-240 lg:w-full py-10 sm:py-4 sm:px-8 mx-auto text-center sm:text-left border-solid border-0 border-t border-gray-300\">\n",
       "<p class=\"text-13\">\n",
       "<span class=\"cf-footer-item sm:block sm:mb-1\">Cloudflare Ray ID: <strong class=\"font-semibold\">89443f9739aa2c09</strong></span>\n",
       "<span class=\"cf-footer-separator sm:hidden\">•</span>\n",
       "<span class=\"cf-footer-item hidden sm:block sm:mb-1\" id=\"cf-footer-item-ip\">\n",
       "      Your IP:\n",
       "      <button class=\"cf-footer-ip-reveal-btn\" id=\"cf-footer-ip-reveal\" type=\"button\">Click to reveal</button>\n",
       "<span class=\"hidden\" id=\"cf-footer-ip\">141.72.249.248</span>\n",
       "<span class=\"cf-footer-separator sm:hidden\">•</span>\n",
       "</span>\n",
       "<span class=\"cf-footer-item sm:block sm:mb-1\"><span>Performance &amp; security by</span> <a href=\"https://www.cloudflare.com/5xx-error-landing\" id=\"brand_link\" rel=\"noopener noreferrer\" target=\"_blank\">Cloudflare</a></span>\n",
       "</p>\n",
       "<script>(function(){function d(){var b=a.getElementById(\"cf-footer-item-ip\"),c=a.getElementById(\"cf-footer-ip-reveal\");b&&\"classList\"in b&&(b.classList.remove(\"hidden\"),c.addEventListener(\"click\",function(){c.classList.add(\"hidden\");a.getElementById(\"cf-footer-ip\").classList.remove(\"hidden\")}))}var a=document;document.addEventListener&&a.addEventListener(\"DOMContentLoaded\",d)})();</script>\n",
       "</div><!-- /.error-footer -->\n",
       "</div><!-- /#cf-error-details -->\n",
       "</div><!-- /#cf-wrapper -->\n",
       "<script>\n",
       "  window._cf_translation = {};\n",
       "  \n",
       "  \n",
       "</script>\n",
       "</body>"
      ]
     },
     "execution_count": 3,
     "metadata": {},
     "output_type": "execute_result"
    }
   ],
   "source": [
    "body"
   ]
  },
  {
   "cell_type": "code",
   "execution_count": 4,
   "id": "24b40050-0f82-47c7-bbf6-95ace0dc9557",
   "metadata": {},
   "outputs": [],
   "source": [
    "import cloudscraper"
   ]
  },
  {
   "cell_type": "code",
   "execution_count": 5,
   "id": "47ed904f-a93c-4e74-b360-46be115bcf73",
   "metadata": {},
   "outputs": [],
   "source": [
    "scraper = cloudscraper.create_scraper()"
   ]
  },
  {
   "cell_type": "code",
   "execution_count": 6,
   "id": "75efd438-36d9-4d8b-89f4-3de20748f082",
   "metadata": {},
   "outputs": [],
   "source": [
    "content = scraper.get(\"https://tastesbetterfromscratch.com/spaetzle/\").text\n",
    "soup = BeautifulSoup(content, 'html.parser')\n",
    "body = soup.find(\"body\")\n",
    "dom = etree.HTML(str(body)) # Parse the HTML content of the page"
   ]
  },
  {
   "cell_type": "code",
   "execution_count": 7,
   "id": "941c1755-6e4a-428c-8713-8fd3b95cc59a",
   "metadata": {},
   "outputs": [],
   "source": [
    "\n",
    "xpath_str = '//ul[@class=\"wprm-recipe-ingredients\"]/li' # The XPath expression for the blog's title"
   ]
  },
  {
   "cell_type": "code",
   "execution_count": 8,
   "id": "195d9a39-e199-4e5c-8730-97412b9212a2",
   "metadata": {},
   "outputs": [
    {
     "name": "stdout",
     "output_type": "stream",
     "text": [
      "[]\n"
     ]
    }
   ],
   "source": [
    "print(dom.xpath(xpath_str))"
   ]
  },
  {
   "cell_type": "code",
   "execution_count": 9,
   "id": "68f42a51-a9c1-478d-89a6-446b09e06586",
   "metadata": {},
   "outputs": [],
   "source": [
    "l = {\"wprm-recipe-ingredient-amount\": \"\", \"wprm-recipe-ingredient-unit\":\"\", \"wprm-recipe-ingredient-name\":\"\"}"
   ]
  },
  {
   "cell_type": "code",
   "execution_count": 10,
   "id": "eefbae2f-3cec-47e4-b563-1796377f4142",
   "metadata": {},
   "outputs": [],
   "source": [
    "ingredients_list = list()\n",
    "for item in dom.xpath(xpath_str):\n",
    "    # print(item)\n",
    "    ingredient_dict = dict()\n",
    "    ingredient_contents = item.xpath(\"span\")\n",
    "    # print(ingredient_contents)\n",
    "    for ingredient_content in ingredient_contents:\n",
    "        ingredient_content_type = ingredient_content.xpath(\"@class\")[0]\n",
    "        # print(ingredient_content_type)\n",
    "        if ingredient_content_type == \"wprm-recipe-ingredient-name\":\n",
    "            if ingredient_content.text:\n",
    "                ingredient_name = ingredient_content.text\n",
    "            else:\n",
    "                ingredient_name = ingredient_content.xpath(\"*\")[0].text\n",
    "            ingredient_dict[\"ingredient_name\"] = ingredient_name\n",
    "        elif ingredient_content_type == \"wprm-recipe-ingredient-unit\":\n",
    "            ingredient_unit = ingredient_content.text\n",
    "            ingredient_dict[\"ingredient_unit\"] = ingredient_unit\n",
    "        elif ingredient_content_type == \"wprm-recipe-ingredient-amount\":\n",
    "            ingredient_amount = ingredient_content.text\n",
    "            ingredient_dict[\"ingredient_amount\"] = ingredient_amount\n",
    "    ingredients_list.append(ingredient_dict)"
   ]
  },
  {
   "cell_type": "code",
   "execution_count": 11,
   "id": "7c898f7d-9865-4f47-b885-61eb0f024353",
   "metadata": {},
   "outputs": [
    {
     "data": {
      "text/plain": [
       "[]"
      ]
     },
     "execution_count": 11,
     "metadata": {},
     "output_type": "execute_result"
    }
   ],
   "source": [
    "ingredients_list"
   ]
  },
  {
   "cell_type": "code",
   "execution_count": 12,
   "id": "df007b5d-9ae9-462e-bef5-6064f50e0b74",
   "metadata": {},
   "outputs": [],
   "source": [
    "\n",
    "xpath_str = '//div[@class=\"wprm-recipe-instruction-text\"]' # The XPath expression for the blog's title"
   ]
  },
  {
   "cell_type": "code",
   "execution_count": 13,
   "id": "d6a59f90-36ee-4902-ad72-8823d46a2999",
   "metadata": {},
   "outputs": [
    {
     "name": "stdout",
     "output_type": "stream",
     "text": [
      "[]\n"
     ]
    }
   ],
   "source": [
    "print(dom.xpath(xpath_str))"
   ]
  },
  {
   "cell_type": "code",
   "execution_count": 14,
   "id": "5096ac6e-639b-4340-8c60-843009bf2eae",
   "metadata": {},
   "outputs": [],
   "source": [
    "recipe = \"\"\n",
    "for idx, div in enumerate(dom.xpath(xpath_str)):\n",
    "    step_text = \"{}) \".format(idx+1)\n",
    "    for steps in div.itertext():\n",
    "        step_text += steps\n",
    "    recipe += step_text + \"\\n\""
   ]
  },
  {
   "cell_type": "code",
   "execution_count": 15,
   "id": "35d76fda-dbb9-4774-8f72-697cd1e0908f",
   "metadata": {},
   "outputs": [
    {
     "name": "stdout",
     "output_type": "stream",
     "text": [
      "\n"
     ]
    }
   ],
   "source": [
    "print(recipe)"
   ]
  },
  {
   "cell_type": "code",
   "execution_count": 16,
   "id": "5bd5fc9e-0397-454b-864e-062574b8a4ca",
   "metadata": {},
   "outputs": [],
   "source": [
    "def scrape_ingredients(dom):\n",
    "    xpath_str = '//ul[@class=\"wprm-recipe-ingredients\"]/li'\n",
    "    ingredients_list = list()\n",
    "    for item in dom.xpath(xpath_str):\n",
    "        # print(item)\n",
    "        ingredient_dict = dict()\n",
    "        ingredient_contents = item.xpath(\"span\")\n",
    "        # print(ingredient_contents)\n",
    "        for ingredient_content in ingredient_contents:\n",
    "            ingredient_content_type = ingredient_content.xpath(\"@class\")[0]\n",
    "            # print(ingredient_content_type)\n",
    "            if ingredient_content_type == \"wprm-recipe-ingredient-name\":\n",
    "                if ingredient_content.text:\n",
    "                    ingredient_name = ingredient_content.text\n",
    "                else:\n",
    "                    ingredient_name = ingredient_content.xpath(\"*\")[0].text\n",
    "                ingredient_dict[\"ingredient_name\"] = ingredient_name\n",
    "            elif ingredient_content_type == \"wprm-recipe-ingredient-unit\":\n",
    "                ingredient_unit = ingredient_content.text\n",
    "                ingredient_dict[\"ingredient_unit\"] = ingredient_unit\n",
    "            elif ingredient_content_type == \"wprm-recipe-ingredient-amount\":\n",
    "                ingredient_amount = ingredient_content.text\n",
    "                ingredient_dict[\"ingredient_amount\"] = ingredient_amount\n",
    "        ingredients_list.append(ingredient_dict)\n",
    "    return ingredients_list"
   ]
  },
  {
   "cell_type": "code",
   "execution_count": 17,
   "id": "67de938f-54f8-43b0-b975-5ad32df791ab",
   "metadata": {},
   "outputs": [],
   "source": [
    "def scrape_recipe(dom):\n",
    "    xpath_str = '//div[@class=\"wprm-recipe-instruction-text\"]'\n",
    "    recipe = \"\"\n",
    "    for idx, div in enumerate(dom.xpath(xpath_str)):\n",
    "        step_text = \"{}) \".format(idx+1)\n",
    "        for steps in div.itertext():\n",
    "            step_text += steps\n",
    "        recipe += step_text + \"\\n\"\n",
    "    return recipe"
   ]
  },
  {
   "cell_type": "code",
   "execution_count": 18,
   "id": "12441f78-41df-4497-b580-518dfc8fef48",
   "metadata": {},
   "outputs": [],
   "source": [
    "from pprint import pprint"
   ]
  },
  {
   "cell_type": "code",
   "execution_count": 19,
   "id": "e4fdfc1b-2f58-47a6-8dea-05763e711a77",
   "metadata": {},
   "outputs": [],
   "source": [
    "def scrape_complete_recipe(dish_name):\n",
    "    content = scraper.get(\"https://tastesbetterfromscratch.com/{}/\".format(dish_name)).text\n",
    "    soup = BeautifulSoup(content, 'html.parser')\n",
    "    body = soup.find(\"body\")\n",
    "    dom = etree.HTML(str(body)) # Parse the HTML content of the page\n",
    "    ingredients_list = scrape_ingredients(dom)\n",
    "    pprint(ingredients_list)\n",
    "    recipe = scrape_recipe(dom)\n",
    "    print(recipe)"
   ]
  },
  {
   "cell_type": "code",
   "execution_count": 20,
   "id": "8fc8bb67-a91a-4266-8e44-87d40803530b",
   "metadata": {},
   "outputs": [
    {
     "name": "stdout",
     "output_type": "stream",
     "text": [
      "[]\n",
      "\n"
     ]
    }
   ],
   "source": [
    "scrape_complete_recipe(\"spaetzle\")"
   ]
  },
  {
   "cell_type": "code",
   "execution_count": 21,
   "id": "ad135a1b-f8e9-4496-934f-6d49cc28720d",
   "metadata": {},
   "outputs": [
    {
     "name": "stdout",
     "output_type": "stream",
     "text": [
      "[{'ingredient_amount': '6',\n",
      "  'ingredient_name': 'green cabbage*',\n",
      "  'ingredient_unit': 'cups'},\n",
      " {'ingredient_amount': '4',\n",
      "  'ingredient_name': 'purple cabbage*',\n",
      "  'ingredient_unit': 'cups'},\n",
      " {'ingredient_amount': '1', 'ingredient_name': 'carrot*'},\n",
      " {'ingredient_amount': '4', 'ingredient_name': 'green onions'},\n",
      " {'ingredient_amount': '1/2',\n",
      "  'ingredient_name': 'mayonnaise',\n",
      "  'ingredient_unit': 'cup'},\n",
      " {'ingredient_amount': '1/3',\n",
      "  'ingredient_name': 'buttermilk',\n",
      "  'ingredient_unit': 'cup'},\n",
      " {'ingredient_amount': '1 1/2',\n",
      "  'ingredient_name': 'apple cider vinegar',\n",
      "  'ingredient_unit': 'Tablespoons'},\n",
      " {'ingredient_amount': '1',\n",
      "  'ingredient_name': 'dijon mustard',\n",
      "  'ingredient_unit': 'Tablespoon'},\n",
      " {'ingredient_amount': '1',\n",
      "  'ingredient_name': 'granulated sugar',\n",
      "  'ingredient_unit': 'Tablespoons'},\n",
      " {'ingredient_amount': '1 1/2',\n",
      "  'ingredient_name': 'celery seed',\n",
      "  'ingredient_unit': 'teaspoons'},\n",
      " {'ingredient_amount': '1/2',\n",
      "  'ingredient_name': 'garlic powder',\n",
      "  'ingredient_unit': 'teaspoon'},\n",
      " {'ingredient_amount': '1/2',\n",
      "  'ingredient_name': 'sea salt',\n",
      "  'ingredient_unit': 'teaspoon'},\n",
      " {'ingredient_amount': '1/4',\n",
      "  'ingredient_name': 'freshly ground black pepper',\n",
      "  'ingredient_unit': 'teaspoon'}]\n",
      "1) Add cabbage to an extra-large mixing bowl. Use paper towels to squeeze out any excess moisture form shredded carrot, then add to the bowl along with green onion and toss to combine.\n",
      "2) Dressing: whisk ingredients together in a medium bowl. Taste and adjust seasonings as needed. Pour dressing over veggies and toss well to coat evenly. \n",
      "3) Refrigerate for several hours or overnight before serving, for best results.\n",
      "\n"
     ]
    }
   ],
   "source": [
    "scrape_complete_recipe(\"coleslaw\")"
   ]
  },
  {
   "cell_type": "code",
   "execution_count": 22,
   "id": "f966579b-7fe5-4566-83ca-b6a513362d7e",
   "metadata": {},
   "outputs": [],
   "source": [
    "content = scraper.get(\"https://tastesbetterfromscratch.com/recipe-index/\").text\n",
    "soup = BeautifulSoup(content, 'html.parser')\n",
    "body = soup.find(\"body\")\n",
    "dom = etree.HTML(str(body)) # Parse the HTML content of the page"
   ]
  },
  {
   "cell_type": "code",
   "execution_count": 23,
   "id": "28049d01-1efc-4156-93c8-cf0835f397ec",
   "metadata": {},
   "outputs": [],
   "source": [
    "dish_list = list()"
   ]
  },
  {
   "cell_type": "code",
   "execution_count": 24,
   "id": "95add2ea-d23c-4720-9ab9-9820703520d7",
   "metadata": {},
   "outputs": [
    {
     "name": "stdout",
     "output_type": "stream",
     "text": [
      "https://tastesbetterfromscratch.com/sheet-pan-chicken-fajitas/\n",
      "https://tastesbetterfromscratch.com/buttermilk-pancakes/\n",
      "https://tastesbetterfromscratch.com/beef-stew/\n",
      "https://tastesbetterfromscratch.com/classic-french-toast/\n",
      "https://tastesbetterfromscratch.com/peach-cobbler/\n",
      "https://tastesbetterfromscratch.com/simple-chicken-parmesan/\n",
      "https://tastesbetterfromscratch.com/italian-grinder-chopped-salad/\n",
      "https://tastesbetterfromscratch.com/marinated-flank-steak/\n",
      "https://tastesbetterfromscratch.com/corn-salad/\n",
      "https://tastesbetterfromscratch.com/pupusas/\n",
      "https://tastesbetterfromscratch.com/mexican-quinoa-salad/\n",
      "https://tastesbetterfromscratch.com/hamburger-recipe/\n",
      "https://tastesbetterfromscratch.com/corn-salad/\n",
      "https://tastesbetterfromscratch.com/coleslaw/\n",
      "https://tastesbetterfromscratch.com/mexican-quinoa-salad/\n",
      "https://tastesbetterfromscratch.com/baked-beans/\n",
      "https://tastesbetterfromscratch.com/pickled-red-onions/\n",
      "https://tastesbetterfromscratch.com/gallo-pinto/\n",
      "https://tastesbetterfromscratch.com/crispy-baked-chicken-wings/\n",
      "https://tastesbetterfromscratch.com/spinach-artichoke-dip/\n",
      "https://tastesbetterfromscratch.com/thai-chicken-lettuce-wraps/\n",
      "https://tastesbetterfromscratch.com/classic-cheese-ball/\n",
      "https://tastesbetterfromscratch.com/peach-cobbler/\n",
      "https://tastesbetterfromscratch.com/german-chocolate-cake/\n",
      "https://tastesbetterfromscratch.com/tres-leches-cake/\n",
      "https://tastesbetterfromscratch.com/hersheys-perfectly-chocolate-chocolate-cake/\n",
      "https://tastesbetterfromscratch.com/vanilla-mug-cake/\n",
      "https://tastesbetterfromscratch.com/homemade-caramels/\n",
      "https://tastesbetterfromscratch.com/homemade-eggnog/\n",
      "https://tastesbetterfromscratch.com/horchata/\n",
      "https://tastesbetterfromscratch.com/strawberry-lemonade/\n",
      "https://tastesbetterfromscratch.com/fresh-squeezed-lemonade/\n"
     ]
    }
   ],
   "source": [
    "for item in dom.xpath('//h3[\"@class=post-summary__title\"]'):\n",
    "    print(item.xpath(\"a\")[0].values()[0])\n",
    "    dish_list.append(item.xpath(\"a\")[0].values()[0].split('/')[-2])"
   ]
  },
  {
   "cell_type": "code",
   "execution_count": 25,
   "id": "5e915ef4-8dc3-436b-b095-3f22535aebc0",
   "metadata": {},
   "outputs": [
    {
     "name": "stdout",
     "output_type": "stream",
     "text": [
      "https://tastesbetterfromscratch.com/flourless-chocolate-cake/\n",
      "https://tastesbetterfromscratch.com/arroz-con-leche/\n",
      "https://tastesbetterfromscratch.com/italian-grinder-chopped-salad/\n",
      "https://tastesbetterfromscratch.com/marinated-flank-steak/\n",
      "https://tastesbetterfromscratch.com/cannoli-cake/\n",
      "https://tastesbetterfromscratch.com/corn-salad/\n",
      "https://tastesbetterfromscratch.com/air-fryer-tofu/\n",
      "https://tastesbetterfromscratch.com/ginger-shots/\n",
      "https://tastesbetterfromscratch.com/ice-cream-sandwiches/\n",
      "https://tastesbetterfromscratch.com/pupusas/\n",
      "https://tastesbetterfromscratch.com/coleslaw/\n",
      "https://tastesbetterfromscratch.com/mexican-quinoa-salad/\n",
      "https://tastesbetterfromscratch.com/rhubarb-pie/\n",
      "https://tastesbetterfromscratch.com/hamburger-recipe/\n",
      "https://tastesbetterfromscratch.com/bbq-menu/\n",
      "https://tastesbetterfromscratch.com/chocolate-crinkle-cookies/\n",
      "https://tastesbetterfromscratch.com/baked-beans/\n",
      "https://tastesbetterfromscratch.com/scotcheroos/\n",
      "https://tastesbetterfromscratch.com/strawberry-rhubarb-crisp/\n",
      "https://tastesbetterfromscratch.com/browned-butter-chocolate-chunk-cookies/\n"
     ]
    }
   ],
   "source": [
    "for item in dom.xpath('//h2[\"@class=post-summary__title\"]'):\n",
    "    if item.getchildren():\n",
    "        if \"meal-plan\" not in item.xpath(\"a\")[0].values()[0]:\n",
    "            print(item.xpath(\"a\")[0].values()[0])\n",
    "            dish_list.append(item.xpath(\"a\")[0].values()[0].split('/')[-2])"
   ]
  },
  {
   "cell_type": "code",
   "execution_count": 26,
   "id": "88b82ad9-ebe6-4227-a899-bbf7a495f898",
   "metadata": {},
   "outputs": [
    {
     "data": {
      "text/plain": [
       "['sheet-pan-chicken-fajitas',\n",
       " 'buttermilk-pancakes',\n",
       " 'beef-stew',\n",
       " 'classic-french-toast',\n",
       " 'peach-cobbler',\n",
       " 'simple-chicken-parmesan',\n",
       " 'italian-grinder-chopped-salad',\n",
       " 'marinated-flank-steak',\n",
       " 'corn-salad',\n",
       " 'pupusas',\n",
       " 'mexican-quinoa-salad',\n",
       " 'hamburger-recipe',\n",
       " 'corn-salad',\n",
       " 'coleslaw',\n",
       " 'mexican-quinoa-salad',\n",
       " 'baked-beans',\n",
       " 'pickled-red-onions',\n",
       " 'gallo-pinto',\n",
       " 'crispy-baked-chicken-wings',\n",
       " 'spinach-artichoke-dip',\n",
       " 'thai-chicken-lettuce-wraps',\n",
       " 'classic-cheese-ball',\n",
       " 'peach-cobbler',\n",
       " 'german-chocolate-cake',\n",
       " 'tres-leches-cake',\n",
       " 'hersheys-perfectly-chocolate-chocolate-cake',\n",
       " 'vanilla-mug-cake',\n",
       " 'homemade-caramels',\n",
       " 'homemade-eggnog',\n",
       " 'horchata',\n",
       " 'strawberry-lemonade',\n",
       " 'fresh-squeezed-lemonade',\n",
       " 'flourless-chocolate-cake',\n",
       " 'arroz-con-leche',\n",
       " 'italian-grinder-chopped-salad',\n",
       " 'marinated-flank-steak',\n",
       " 'cannoli-cake',\n",
       " 'corn-salad',\n",
       " 'air-fryer-tofu',\n",
       " 'ginger-shots',\n",
       " 'ice-cream-sandwiches',\n",
       " 'pupusas',\n",
       " 'coleslaw',\n",
       " 'mexican-quinoa-salad',\n",
       " 'rhubarb-pie',\n",
       " 'hamburger-recipe',\n",
       " 'bbq-menu',\n",
       " 'chocolate-crinkle-cookies',\n",
       " 'baked-beans',\n",
       " 'scotcheroos',\n",
       " 'strawberry-rhubarb-crisp',\n",
       " 'browned-butter-chocolate-chunk-cookies']"
      ]
     },
     "execution_count": 26,
     "metadata": {},
     "output_type": "execute_result"
    }
   ],
   "source": [
    "dish_list"
   ]
  },
  {
   "cell_type": "code",
   "execution_count": null,
   "id": "63dc4297-e024-4afa-926b-40c895dcad29",
   "metadata": {},
   "outputs": [],
   "source": [
    "len(dish_list)"
   ]
  },
  {
   "cell_type": "code",
   "execution_count": 29,
   "id": "889de4b3-162f-4c85-bc83-4676fbea7e11",
   "metadata": {},
   "outputs": [],
   "source": [
    "def scrape_and_return_dish(dish_name):\n",
    "    content = scraper.get(\"https://tastesbetterfromscratch.com/{}/\".format(dish_name)).text\n",
    "    soup = BeautifulSoup(content, 'html.parser')\n",
    "    body = soup.find(\"body\")\n",
    "    dom = etree.HTML(str(body)) # Parse the HTML content of the page\n",
    "    ingredients_list = scrape_ingredients(dom)\n",
    "    recipe = scrape_recipe(dom)\n",
    "    return {\"ingredients\": ingredients_list, \"recipe\": recipe}"
   ]
  },
  {
   "cell_type": "code",
   "execution_count": 32,
   "id": "a7cc108c-2813-4d7c-8429-345eeb3311cf",
   "metadata": {},
   "outputs": [
    {
     "name": "stdout",
     "output_type": "stream",
     "text": [
      "Defaulting to user installation because normal site-packages is not writeable\n",
      "Collecting psycopg2-binary\n",
      "  Downloading psycopg2_binary-2.9.9-cp39-cp39-macosx_11_0_arm64.whl (2.6 MB)\n",
      "\u001b[2K     \u001b[90m━━━━━━━━━━━━━━━━━━━━━━━━━━━━━━━━━━━━━━━━\u001b[0m \u001b[32m2.6/2.6 MB\u001b[0m \u001b[31m19.7 MB/s\u001b[0m eta \u001b[36m0:00:00\u001b[0m00:01\u001b[0m00:01\u001b[0m\n",
      "\u001b[?25hInstalling collected packages: psycopg2-binary\n",
      "Successfully installed psycopg2-binary-2.9.9\n",
      "\n",
      "\u001b[1m[\u001b[0m\u001b[34;49mnotice\u001b[0m\u001b[1;39;49m]\u001b[0m\u001b[39;49m A new release of pip is available: \u001b[0m\u001b[31;49m23.0.1\u001b[0m\u001b[39;49m -> \u001b[0m\u001b[32;49m24.0\u001b[0m\n",
      "\u001b[1m[\u001b[0m\u001b[34;49mnotice\u001b[0m\u001b[1;39;49m]\u001b[0m\u001b[39;49m To update, run: \u001b[0m\u001b[32;49m/Library/Developer/CommandLineTools/usr/bin/python3 -m pip install --upgrade pip\u001b[0m\n",
      "Note: you may need to restart the kernel to use updated packages.\n"
     ]
    }
   ],
   "source": [
    "%pip install psycopg2-binary"
   ]
  },
  {
   "cell_type": "code",
   "execution_count": 33,
   "id": "f83702f8-41ae-47f3-8369-830044920765",
   "metadata": {},
   "outputs": [
    {
     "name": "stdout",
     "output_type": "stream",
     "text": [
      "2.9.9 (dt dec pq3 ext lo64)\n"
     ]
    }
   ],
   "source": [
    "import psycopg2\n"
   ]
  },
  {
   "cell_type": "code",
   "execution_count": 36,
   "id": "8815c383-dbe0-4d6d-8d14-1946fcd62850",
   "metadata": {},
   "outputs": [],
   "source": [
    "\n",
    "class PostgresConnection:\n",
    "    def __init__(self, hostname, port, dbname, username, password):\n",
    "        self.hostname = hostname\n",
    "        self.port = port\n",
    "        self.dbname = dbname\n",
    "        self.username = username\n",
    "        self.password = password\n",
    "        self.conn = None\n",
    "        self.cur = None\n",
    "\n",
    "    def __enter__(self):\n",
    "        try:\n",
    "            self.conn = psycopg2.connect(\n",
    "                host=self.hostname,\n",
    "                port=self.port,\n",
    "                dbname=self.dbname,\n",
    "                user=self.username,\n",
    "                password=self.password\n",
    "            )\n",
    "            print(\"Connection successful\")\n",
    "            self.cur = self.conn.cursor()\n",
    "            return self.cur  # Return the cursor object\n",
    "        except Exception as error:\n",
    "            print(f\"Error: {error}\")\n",
    "            if self.conn:\n",
    "                self.conn.close()\n",
    "            raise\n",
    "\n",
    "    def __exit__(self, exc_type, exc_val, exc_tb):\n",
    "        # Ensure the cursor and connection are closed\n",
    "        if self.cur is not None:\n",
    "            self.cur.close()\n",
    "        if self.conn is not None:\n",
    "            self.conn.close()\n",
    "        print(\"Connection closed\")\n"
   ]
  },
  {
   "cell_type": "code",
   "execution_count": 38,
   "id": "cf151961-7a22-4391-907d-da2e5b753157",
   "metadata": {},
   "outputs": [],
   "source": [
    "class Dish:\n",
    "    def __init__(self, dish_name, recipe):\n",
    "        self.id = str(uuid.uuid4())\n",
    "        self.dish_name = dish_name\n",
    "        self.recipe = recipe\n",
    "\n",
    "    def save_to_db(self, cursor):\n",
    "        insert_sql = \"\"\"\n",
    "        INSERT INTO dishes (id, dish_name, recipe)\n",
    "        VALUES (%s, %s, %s)\n",
    "        ON CONFLICT (dish_name) DO NOTHING;\n",
    "        \"\"\"\n",
    "        cursor.execute(insert_sql, (self.id, self.dish_name, self.recipe))\n",
    "\n",
    "    @staticmethod\n",
    "    def get_all(cursor):\n",
    "        select_sql = \"SELECT * FROM dishes;\"\n",
    "        cursor.execute(select_sql)\n",
    "        return cursor.fetchall()\n",
    "    \n",
    "    @staticmethod\n",
    "    def get_by_name(cursor, dish_name):\n",
    "        select_sql = \"SELECT * FROM dishes WHERE dish_name = %s;\"\n",
    "        cursor.execute(select_sql, (dish_name,))\n",
    "        return cursor.fetchall()\n",
    "    \n",
    "    @staticmethod\n",
    "    def get_by_id(cursor, dish_id):\n",
    "        select_sql = \"SELECT * FROM dishes WHERE id = %s;\"\n",
    "        cursor.execute(select_sql, (dish_id,))\n",
    "        return cursor.fetchall()\n",
    "    "
   ]
  },
  {
   "cell_type": "code",
   "execution_count": 39,
   "id": "8ea673fb-64be-4535-8e15-9bdf8d2cb935",
   "metadata": {},
   "outputs": [],
   "source": [
    "class DishIngredient:\n",
    "    def __init__(self, name, amount, unit, dish_id):\n",
    "        self.id = str(uuid.uuid4())\n",
    "        self.name = name\n",
    "        self.amount = amount\n",
    "        self.unit = unit\n",
    "        self.dish_id = dish_id\n",
    "\n",
    "    def save_to_db(self, cursor):\n",
    "        insert_sql = \"\"\"\n",
    "        INSERT INTO dish_ingredients (id, name, amount, unit, dish)\n",
    "        VALUES (%s, %s, %s, %s, %s);\n",
    "        \"\"\"\n",
    "        cursor.execute(insert_sql, (self.id, self.name, self.amount, self.unit, self.dish_id))\n",
    "\n",
    "    @staticmethod\n",
    "    def get_all(cursor):\n",
    "        select_sql = \"SELECT * FROM dish_ingredients;\"\n",
    "        cursor.execute(select_sql)\n",
    "        return cursor.fetchall()\n"
   ]
  },
  {
   "cell_type": "code",
   "execution_count": 37,
   "id": "0dcb816a-285c-476d-aabb-bb6e93347762",
   "metadata": {},
   "outputs": [
    {
     "name": "stdout",
     "output_type": "stream",
     "text": [
      "Connection successful\n",
      "Current Time: 2024-06-16 09:26:50.178040+00:00\n",
      "Connection closed\n"
     ]
    }
   ],
   "source": [
    "# Example usage\n",
    "hostname = 'localhost'\n",
    "port = '5432'\n",
    "dbname = 'brownies-db'\n",
    "username = 'username'\n",
    "password = 'password'\n",
    "\n",
    "with PostgresConnection(hostname, port, dbname, username, password) as cur:\n",
    "    unique_dishes = set(dish_list)\n",
    "    for dish in dish_list:\n",
    "        dish_data = scrape_and_return_dish(dish)\n",
    "        dish_obj = Dish(dish, dish_data[\"recipe\"])\n",
    "        dish_obj.save_to_db(cur)\n",
    "        for ingredient in dish_data[\"ingredients\"]:\n",
    "            ingredient_name = ingredient[\"ingredient_name\"]\n",
    "            ingredient_amount = ingredient.get(\"ingredient_amount\", \"\")\n",
    "            ingredient_unit = ingredient.get(\"ingredient_unit\", \"\")\n",
    "            dish = Dish.get_by_id(cur, dish_obj.id)\n",
    "            print(dish)\n",
    "            ingredient_obj = DishIngredient(ingredient_name, ingredient_amount, ingredient_unit, dish_obj.id)\n",
    "            # ingredient_obj.save_to_db(cur)\n",
    "            print(ingredient_obj.__dict__)\n",
    "    # print(Dish.get_all(cur))\n",
    "    # print(DishIngredient.get_all(cur))\n",
    "    cur.commit()\n",
    "            "
   ]
  },
  {
   "cell_type": "code",
   "execution_count": null,
   "id": "d590d79e-3814-4c44-a6b4-76f98b63f7e3",
   "metadata": {},
   "outputs": [],
   "source": []
  }
 ],
 "metadata": {
  "kernelspec": {
   "display_name": "Python 3 (ipykernel)",
   "language": "python",
   "name": "python3"
  },
  "language_info": {
   "codemirror_mode": {
    "name": "ipython",
    "version": 3
   },
   "file_extension": ".py",
   "mimetype": "text/x-python",
   "name": "python",
   "nbconvert_exporter": "python",
   "pygments_lexer": "ipython3",
   "version": "3.9.6"
  }
 },
 "nbformat": 4,
 "nbformat_minor": 5
}
