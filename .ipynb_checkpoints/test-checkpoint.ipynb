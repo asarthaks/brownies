{
 "cells": [
  {
   "cell_type": "code",
   "execution_count": 13,
   "id": "cf28e3d3-e0d1-4f4e-ab4a-398395d14e2a",
   "metadata": {},
   "outputs": [],
   "source": [
    "import requests\n",
    "from bs4 import BeautifulSoup\n",
    "from lxml import etree\n",
    "\n"
   ]
  },
  {
   "cell_type": "code",
   "execution_count": 16,
   "id": "aca6d4c2-34ee-468f-a2b4-86d7ff240e5a",
   "metadata": {},
   "outputs": [
    {
     "name": "stdout",
     "output_type": "stream",
     "text": [
      "[]\n"
     ]
    }
   ],
   "source": [
    "response = requests.get(\"https://tastesbetterfromscratch.com/spaetzle/\")\n",
    "soup = BeautifulSoup(response.content, 'html.parser')\n",
    "body = soup.find(\"body\")\n",
    "\n",
    "dom = etree.HTML(str(body)) # Parse the HTML content of the page\n",
    "xpath_str = '//ul[class=\"wprm-recipe-ingredients\"]' # The XPath expression for the blog's title\n",
    "print(dom.xpath(xpath_str))"
   ]
  },
  {
   "cell_type": "code",
   "execution_count": 17,
   "id": "a20dc4a3-b91a-4ebb-bfed-2c1d9bc0dbf9",
   "metadata": {},
   "outputs": [
    {
     "data": {
      "text/plain": [
       "<body>\n",
       "<div id=\"cf-wrapper\">\n",
       "<div class=\"cf-alert cf-alert-error cf-cookie-error\" data-translate=\"enable_cookies\" id=\"cookie-alert\">Please enable cookies.</div>\n",
       "<div class=\"cf-error-details-wrapper\" id=\"cf-error-details\">\n",
       "<div class=\"cf-wrapper cf-header cf-error-overview\">\n",
       "<h1 data-translate=\"block_headline\">Sorry, you have been blocked</h1>\n",
       "<h2 class=\"cf-subheadline\"><span data-translate=\"unable_to_access\">You are unable to access</span> dns1.nerdpress.net</h2>\n",
       "</div><!-- /.header -->\n",
       "<div class=\"cf-section cf-highlight\">\n",
       "<div class=\"cf-wrapper\">\n",
       "<div class=\"cf-screenshot-container cf-screenshot-full\">\n",
       "<span class=\"cf-no-screenshot error\"></span>\n",
       "</div>\n",
       "</div>\n",
       "</div><!-- /.captcha-container -->\n",
       "<div class=\"cf-section cf-wrapper\">\n",
       "<div class=\"cf-columns two\">\n",
       "<div class=\"cf-column\">\n",
       "<h2 data-translate=\"blocked_why_headline\">Why have I been blocked?</h2>\n",
       "<p data-translate=\"blocked_why_detail\">This website is using a security service to protect itself from online attacks. The action you just performed triggered the security solution. There are several actions that could trigger this block including submitting a certain word or phrase, a SQL command or malformed data.</p>\n",
       "</div>\n",
       "<div class=\"cf-column\">\n",
       "<h2 data-translate=\"blocked_resolve_headline\">What can I do to resolve this?</h2>\n",
       "<p data-translate=\"blocked_resolve_detail\">You can email the site owner to let them know you were blocked. Please include what you were doing when this page came up and the Cloudflare Ray ID found at the bottom of this page.</p>\n",
       "</div>\n",
       "</div>\n",
       "</div><!-- /.section -->\n",
       "<div class=\"cf-error-footer cf-wrapper w-240 lg:w-full py-10 sm:py-4 sm:px-8 mx-auto text-center sm:text-left border-solid border-0 border-t border-gray-300\">\n",
       "<p class=\"text-13\">\n",
       "<span class=\"cf-footer-item sm:block sm:mb-1\">Cloudflare Ray ID: <strong class=\"font-semibold\">88ffdb4e4e432c0d</strong></span>\n",
       "<span class=\"cf-footer-separator sm:hidden\">•</span>\n",
       "<span class=\"cf-footer-item hidden sm:block sm:mb-1\" id=\"cf-footer-item-ip\">\n",
       "      Your IP:\n",
       "      <button class=\"cf-footer-ip-reveal-btn\" id=\"cf-footer-ip-reveal\" type=\"button\">Click to reveal</button>\n",
       "<span class=\"hidden\" id=\"cf-footer-ip\">141.72.237.180</span>\n",
       "<span class=\"cf-footer-separator sm:hidden\">•</span>\n",
       "</span>\n",
       "<span class=\"cf-footer-item sm:block sm:mb-1\"><span>Performance &amp; security by</span> <a href=\"https://www.cloudflare.com/5xx-error-landing\" id=\"brand_link\" rel=\"noopener noreferrer\" target=\"_blank\">Cloudflare</a></span>\n",
       "</p>\n",
       "<script>(function(){function d(){var b=a.getElementById(\"cf-footer-item-ip\"),c=a.getElementById(\"cf-footer-ip-reveal\");b&&\"classList\"in b&&(b.classList.remove(\"hidden\"),c.addEventListener(\"click\",function(){c.classList.add(\"hidden\");a.getElementById(\"cf-footer-ip\").classList.remove(\"hidden\")}))}var a=document;document.addEventListener&&a.addEventListener(\"DOMContentLoaded\",d)})();</script>\n",
       "</div><!-- /.error-footer -->\n",
       "</div><!-- /#cf-error-details -->\n",
       "</div><!-- /#cf-wrapper -->\n",
       "<script>\n",
       "  window._cf_translation = {};\n",
       "  \n",
       "  \n",
       "</script>\n",
       "</body>"
      ]
     },
     "execution_count": 17,
     "metadata": {},
     "output_type": "execute_result"
    }
   ],
   "source": [
    "body"
   ]
  },
  {
   "cell_type": "code",
   "execution_count": 20,
   "id": "24b40050-0f82-47c7-bbf6-95ace0dc9557",
   "metadata": {},
   "outputs": [],
   "source": [
    "import cloudscraper"
   ]
  },
  {
   "cell_type": "code",
   "execution_count": 21,
   "id": "47ed904f-a93c-4e74-b360-46be115bcf73",
   "metadata": {},
   "outputs": [],
   "source": [
    "scraper = cloudscraper.create_scraper()"
   ]
  },
  {
   "cell_type": "code",
   "execution_count": 56,
   "id": "75efd438-36d9-4d8b-89f4-3de20748f082",
   "metadata": {},
   "outputs": [],
   "source": [
    "content = scraper.get(\"https://tastesbetterfromscratch.com/spaetzle/\").text\n",
    "soup = BeautifulSoup(content, 'html.parser')\n",
    "body = soup.find(\"body\")\n",
    "dom = etree.HTML(str(body)) # Parse the HTML content of the page"
   ]
  },
  {
   "cell_type": "code",
   "execution_count": 137,
   "id": "941c1755-6e4a-428c-8713-8fd3b95cc59a",
   "metadata": {},
   "outputs": [],
   "source": [
    "\n",
    "xpath_str = '//ul[@class=\"wprm-recipe-ingredients\"]/li' # The XPath expression for the blog's title"
   ]
  },
  {
   "cell_type": "code",
   "execution_count": 138,
   "id": "195d9a39-e199-4e5c-8730-97412b9212a2",
   "metadata": {},
   "outputs": [
    {
     "name": "stdout",
     "output_type": "stream",
     "text": [
      "[<Element li at 0x7f8118c13080>, <Element li at 0x7f8101809780>, <Element li at 0x7f8101822100>, <Element li at 0x7f8101891bc0>, <Element li at 0x7f81018929c0>]\n"
     ]
    }
   ],
   "source": [
    "print(dom.xpath(xpath_str))"
   ]
  },
  {
   "cell_type": "code",
   "execution_count": null,
   "id": "68f42a51-a9c1-478d-89a6-446b09e06586",
   "metadata": {},
   "outputs": [],
   "source": [
    "l = {\"wprm-recipe-ingredient-amount\": \"\", \"wprm-recipe-ingredient-unit\":\"\", \"wprm-recipe-ingredient-name\":\"\"}"
   ]
  },
  {
   "cell_type": "code",
   "execution_count": 139,
   "id": "eefbae2f-3cec-47e4-b563-1796377f4142",
   "metadata": {},
   "outputs": [
    {
     "ename": "AttributeError",
     "evalue": "'lxml.etree._Element' object has no attribute 'id'",
     "output_type": "error",
     "traceback": [
      "\u001b[0;31m---------------------------------------------------------------------------\u001b[0m",
      "\u001b[0;31mAttributeError\u001b[0m                            Traceback (most recent call last)",
      "Cell \u001b[0;32mIn[139], line 2\u001b[0m\n\u001b[1;32m      1\u001b[0m \u001b[38;5;28;01mfor\u001b[39;00m item \u001b[38;5;129;01min\u001b[39;00m dom\u001b[38;5;241m.\u001b[39mxpath(xpath_str):\n\u001b[0;32m----> 2\u001b[0m     \u001b[38;5;28mprint\u001b[39m(\u001b[43mitem\u001b[49m\u001b[38;5;241;43m.\u001b[39;49m\u001b[43mid\u001b[49m)\n",
      "\u001b[0;31mAttributeError\u001b[0m: 'lxml.etree._Element' object has no attribute 'id'"
     ]
    }
   ],
   "source": [
    "for item in dom.xpath(xpath_str):\n",
    "    ingredient_dict = dict()\n",
    "    ingredient_contents = item.xpath(\"span\")\n",
    "    for ingredient_content in ingredient_contents:\n",
    "        ingredient_content_type = ingredient_content.xpath(\"@class\")\n",
    "        if ingredient_content_type == \"wprm-recipe-ingredient-name\":\n",
    "            ingredient_name = ingredient_content.xpath(\"*\")[0].text\n",
    "            ingredient_dict[\"ingredient_name\"] = ingredient_name\n",
    "        elif ingredient_content_type == \"wprm-recipe-ingredient-unit\":\n",
    "            ingredient_unit = ingredient_content.text\n",
    "            ingredient_dict[\"ingredient_unit\"] = ingredient_unit\n",
    "        elif ingredient_content_type == \"wprm-recipe-ingredient-amount\":\n",
    "            ingredient_amount = ingredient_content.text\n",
    "            ingredient_dict[\"ingredient_amount\"] = ingredient_name\n",
    "        \n",
    "        \n",
    "    if [3].xpath(\"*\")[0].text"
   ]
  },
  {
   "cell_type": "code",
   "execution_count": null,
   "id": "7c898f7d-9865-4f47-b885-61eb0f024353",
   "metadata": {},
   "outputs": [],
   "source": []
  },
  {
   "cell_type": "code",
   "execution_count": 136,
   "id": "0551d735-4fd1-4ebc-b28a-a159c63a2318",
   "metadata": {},
   "outputs": [
    {
     "data": {
      "text/plain": [
       "'all-purpose flour'"
      ]
     },
     "execution_count": 136,
     "metadata": {},
     "output_type": "execute_result"
    }
   ],
   "source": [
    "dom.xpath(xpath_str)[0].xpath(\"span\")[3].xpath(\"*\")[0].text"
   ]
  },
  {
   "cell_type": "code",
   "execution_count": 140,
   "id": "44b426c8-0fce-4312-88a7-c27c0e81a06d",
   "metadata": {},
   "outputs": [
    {
     "data": {
      "text/plain": [
       "'2'"
      ]
     },
     "execution_count": 140,
     "metadata": {},
     "output_type": "execute_result"
    }
   ],
   "source": [
    "dom.xpath(xpath_str)[0].xpath(\"span\")[1].text"
   ]
  },
  {
   "cell_type": "code",
   "execution_count": null,
   "id": "df007b5d-9ae9-462e-bef5-6064f50e0b74",
   "metadata": {},
   "outputs": [],
   "source": []
  }
 ],
 "metadata": {
  "kernelspec": {
   "display_name": "Python 3 (ipykernel)",
   "language": "python",
   "name": "python3"
  },
  "language_info": {
   "codemirror_mode": {
    "name": "ipython",
    "version": 3
   },
   "file_extension": ".py",
   "mimetype": "text/x-python",
   "name": "python",
   "nbconvert_exporter": "python",
   "pygments_lexer": "ipython3",
   "version": "3.10.13"
  }
 },
 "nbformat": 4,
 "nbformat_minor": 5
}
