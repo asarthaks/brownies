{
 "cells": [
  {
   "cell_type": "code",
   "execution_count": 4,
   "id": "cf28e3d3-e0d1-4f4e-ab4a-398395d14e2a",
   "metadata": {},
   "outputs": [],
   "source": [
    "import requests\n",
    "from bs4 import BeautifulSoup\n",
    "from lxml import etree\n",
    "\n"
   ]
  },
  {
   "cell_type": "code",
   "execution_count": 5,
   "id": "aca6d4c2-34ee-468f-a2b4-86d7ff240e5a",
   "metadata": {},
   "outputs": [
    {
     "name": "stdout",
     "output_type": "stream",
     "text": [
      "[]\n"
     ]
    }
   ],
   "source": [
    "response = requests.get(\"https://tastesbetterfromscratch.com/spaetzle/\")\n",
    "soup = BeautifulSoup(response.content, 'html.parser')\n",
    "body = soup.find(\"body\")\n",
    "\n",
    "dom = etree.HTML(str(body)) # Parse the HTML content of the page\n",
    "xpath_str = '//ul[class=\"wprm-recipe-ingredients\"]' # The XPath expression for the blog's title\n",
    "print(dom.xpath(xpath_str))"
   ]
  },
  {
   "cell_type": "code",
   "execution_count": 6,
   "id": "a20dc4a3-b91a-4ebb-bfed-2c1d9bc0dbf9",
   "metadata": {},
   "outputs": [
    {
     "data": {
      "text/plain": [
       "<body>\n",
       "<div id=\"cf-wrapper\">\n",
       "<div class=\"cf-alert cf-alert-error cf-cookie-error\" data-translate=\"enable_cookies\" id=\"cookie-alert\">Please enable cookies.</div>\n",
       "<div class=\"cf-error-details-wrapper\" id=\"cf-error-details\">\n",
       "<div class=\"cf-wrapper cf-header cf-error-overview\">\n",
       "<h1 data-translate=\"block_headline\">Sorry, you have been blocked</h1>\n",
       "<h2 class=\"cf-subheadline\"><span data-translate=\"unable_to_access\">You are unable to access</span> dns1.nerdpress.net</h2>\n",
       "</div><!-- /.header -->\n",
       "<div class=\"cf-section cf-highlight\">\n",
       "<div class=\"cf-wrapper\">\n",
       "<div class=\"cf-screenshot-container cf-screenshot-full\">\n",
       "<span class=\"cf-no-screenshot error\"></span>\n",
       "</div>\n",
       "</div>\n",
       "</div><!-- /.captcha-container -->\n",
       "<div class=\"cf-section cf-wrapper\">\n",
       "<div class=\"cf-columns two\">\n",
       "<div class=\"cf-column\">\n",
       "<h2 data-translate=\"blocked_why_headline\">Why have I been blocked?</h2>\n",
       "<p data-translate=\"blocked_why_detail\">This website is using a security service to protect itself from online attacks. The action you just performed triggered the security solution. There are several actions that could trigger this block including submitting a certain word or phrase, a SQL command or malformed data.</p>\n",
       "</div>\n",
       "<div class=\"cf-column\">\n",
       "<h2 data-translate=\"blocked_resolve_headline\">What can I do to resolve this?</h2>\n",
       "<p data-translate=\"blocked_resolve_detail\">You can email the site owner to let them know you were blocked. Please include what you were doing when this page came up and the Cloudflare Ray ID found at the bottom of this page.</p>\n",
       "</div>\n",
       "</div>\n",
       "</div><!-- /.section -->\n",
       "<div class=\"cf-error-footer cf-wrapper w-240 lg:w-full py-10 sm:py-4 sm:px-8 mx-auto text-center sm:text-left border-solid border-0 border-t border-gray-300\">\n",
       "<p class=\"text-13\">\n",
       "<span class=\"cf-footer-item sm:block sm:mb-1\">Cloudflare Ray ID: <strong class=\"font-semibold\">891f8d8ac80b2c0c</strong></span>\n",
       "<span class=\"cf-footer-separator sm:hidden\">•</span>\n",
       "<span class=\"cf-footer-item hidden sm:block sm:mb-1\" id=\"cf-footer-item-ip\">\n",
       "      Your IP:\n",
       "      <button class=\"cf-footer-ip-reveal-btn\" id=\"cf-footer-ip-reveal\" type=\"button\">Click to reveal</button>\n",
       "<span class=\"hidden\" id=\"cf-footer-ip\">141.58.54.87</span>\n",
       "<span class=\"cf-footer-separator sm:hidden\">•</span>\n",
       "</span>\n",
       "<span class=\"cf-footer-item sm:block sm:mb-1\"><span>Performance &amp; security by</span> <a href=\"https://www.cloudflare.com/5xx-error-landing\" id=\"brand_link\" rel=\"noopener noreferrer\" target=\"_blank\">Cloudflare</a></span>\n",
       "</p>\n",
       "<script>(function(){function d(){var b=a.getElementById(\"cf-footer-item-ip\"),c=a.getElementById(\"cf-footer-ip-reveal\");b&&\"classList\"in b&&(b.classList.remove(\"hidden\"),c.addEventListener(\"click\",function(){c.classList.add(\"hidden\");a.getElementById(\"cf-footer-ip\").classList.remove(\"hidden\")}))}var a=document;document.addEventListener&&a.addEventListener(\"DOMContentLoaded\",d)})();</script>\n",
       "</div><!-- /.error-footer -->\n",
       "</div><!-- /#cf-error-details -->\n",
       "</div><!-- /#cf-wrapper -->\n",
       "<script>\n",
       "  window._cf_translation = {};\n",
       "  \n",
       "  \n",
       "</script>\n",
       "</body>"
      ]
     },
     "execution_count": 6,
     "metadata": {},
     "output_type": "execute_result"
    }
   ],
   "source": [
    "body"
   ]
  },
  {
   "cell_type": "code",
   "execution_count": 7,
   "id": "24b40050-0f82-47c7-bbf6-95ace0dc9557",
   "metadata": {},
   "outputs": [],
   "source": [
    "import cloudscraper"
   ]
  },
  {
   "cell_type": "code",
   "execution_count": 8,
   "id": "47ed904f-a93c-4e74-b360-46be115bcf73",
   "metadata": {},
   "outputs": [],
   "source": [
    "scraper = cloudscraper.create_scraper()"
   ]
  },
  {
   "cell_type": "code",
   "execution_count": 9,
   "id": "75efd438-36d9-4d8b-89f4-3de20748f082",
   "metadata": {},
   "outputs": [],
   "source": [
    "content = scraper.get(\"https://tastesbetterfromscratch.com/spaetzle/\").text\n",
    "soup = BeautifulSoup(content, 'html.parser')\n",
    "body = soup.find(\"body\")\n",
    "dom = etree.HTML(str(body)) # Parse the HTML content of the page"
   ]
  },
  {
   "cell_type": "code",
   "execution_count": 10,
   "id": "941c1755-6e4a-428c-8713-8fd3b95cc59a",
   "metadata": {},
   "outputs": [],
   "source": [
    "\n",
    "xpath_str = '//ul[@class=\"wprm-recipe-ingredients\"]/li' # The XPath expression for the blog's title"
   ]
  },
  {
   "cell_type": "code",
   "execution_count": 11,
   "id": "195d9a39-e199-4e5c-8730-97412b9212a2",
   "metadata": {},
   "outputs": [
    {
     "name": "stdout",
     "output_type": "stream",
     "text": [
      "[<Element li at 0x7f5de59eb000>, <Element li at 0x7f5de59e9c00>, <Element li at 0x7f5de59b4d00>, <Element li at 0x7f5df428ef00>, <Element li at 0x7f5de4d6cf00>]\n"
     ]
    }
   ],
   "source": [
    "print(dom.xpath(xpath_str))"
   ]
  },
  {
   "cell_type": "code",
   "execution_count": 12,
   "id": "68f42a51-a9c1-478d-89a6-446b09e06586",
   "metadata": {},
   "outputs": [],
   "source": [
    "l = {\"wprm-recipe-ingredient-amount\": \"\", \"wprm-recipe-ingredient-unit\":\"\", \"wprm-recipe-ingredient-name\":\"\"}"
   ]
  },
  {
   "cell_type": "code",
   "execution_count": 13,
   "id": "eefbae2f-3cec-47e4-b563-1796377f4142",
   "metadata": {},
   "outputs": [],
   "source": [
    "ingredients_list = list()\n",
    "for item in dom.xpath(xpath_str):\n",
    "    # print(item)\n",
    "    ingredient_dict = dict()\n",
    "    ingredient_contents = item.xpath(\"span\")\n",
    "    # print(ingredient_contents)\n",
    "    for ingredient_content in ingredient_contents:\n",
    "        ingredient_content_type = ingredient_content.xpath(\"@class\")[0]\n",
    "        # print(ingredient_content_type)\n",
    "        if ingredient_content_type == \"wprm-recipe-ingredient-name\":\n",
    "            if ingredient_content.text:\n",
    "                ingredient_name = ingredient_content.text\n",
    "            else:\n",
    "                ingredient_name = ingredient_content.xpath(\"*\")[0].text\n",
    "            ingredient_dict[\"ingredient_name\"] = ingredient_name\n",
    "        elif ingredient_content_type == \"wprm-recipe-ingredient-unit\":\n",
    "            ingredient_unit = ingredient_content.text\n",
    "            ingredient_dict[\"ingredient_unit\"] = ingredient_unit\n",
    "        elif ingredient_content_type == \"wprm-recipe-ingredient-amount\":\n",
    "            ingredient_amount = ingredient_content.text\n",
    "            ingredient_dict[\"ingredient_amount\"] = ingredient_amount\n",
    "    ingredients_list.append(ingredient_dict)"
   ]
  },
  {
   "cell_type": "code",
   "execution_count": 14,
   "id": "7c898f7d-9865-4f47-b885-61eb0f024353",
   "metadata": {},
   "outputs": [
    {
     "data": {
      "text/plain": [
       "[{'ingredient_amount': '2',\n",
       "  'ingredient_unit': 'cups',\n",
       "  'ingredient_name': 'all-purpose flour'},\n",
       " {'ingredient_amount': '1-1/2',\n",
       "  'ingredient_unit': 'teaspoon',\n",
       "  'ingredient_name': 'salt'},\n",
       " {'ingredient_amount': '1/4',\n",
       "  'ingredient_unit': 'teaspoon',\n",
       "  'ingredient_name': 'ground nutmeg'},\n",
       " {'ingredient_amount': '4', 'ingredient_name': 'large eggs'},\n",
       " {'ingredient_amount': '1/2',\n",
       "  'ingredient_unit': 'cup',\n",
       "  'ingredient_name': 'milk'}]"
      ]
     },
     "execution_count": 14,
     "metadata": {},
     "output_type": "execute_result"
    }
   ],
   "source": [
    "ingredients_list"
   ]
  },
  {
   "cell_type": "code",
   "execution_count": 15,
   "id": "df007b5d-9ae9-462e-bef5-6064f50e0b74",
   "metadata": {},
   "outputs": [],
   "source": [
    "\n",
    "xpath_str = '//div[@class=\"wprm-recipe-instruction-text\"]' # The XPath expression for the blog's title"
   ]
  },
  {
   "cell_type": "code",
   "execution_count": 16,
   "id": "d6a59f90-36ee-4902-ad72-8823d46a2999",
   "metadata": {},
   "outputs": [
    {
     "name": "stdout",
     "output_type": "stream",
     "text": [
      "[<Element div at 0x7f5de5aef000>, <Element div at 0x7f5de4d5fd00>, <Element div at 0x7f5de59b4480>, <Element div at 0x7f5de4d6ec00>, <Element div at 0x7f5de4d6e6c0>, <Element div at 0x7f5de4d6f000>]\n"
     ]
    }
   ],
   "source": [
    "print(dom.xpath(xpath_str))"
   ]
  },
  {
   "cell_type": "code",
   "execution_count": 17,
   "id": "5096ac6e-639b-4340-8c60-843009bf2eae",
   "metadata": {},
   "outputs": [],
   "source": [
    "recipe = \"\"\n",
    "for idx, div in enumerate(dom.xpath(xpath_str)):\n",
    "    step_text = \"{}) \".format(idx+1)\n",
    "    for steps in div.itertext():\n",
    "        step_text += steps\n",
    "    recipe += step_text + \"\\n\""
   ]
  },
  {
   "cell_type": "code",
   "execution_count": 18,
   "id": "35d76fda-dbb9-4774-8f72-697cd1e0908f",
   "metadata": {},
   "outputs": [
    {
     "name": "stdout",
     "output_type": "stream",
     "text": [
      "1) Dry ingredients: In a medium to large bowl mix together flour, salt and nutmeg.\n",
      "2) Wet ingredients: In a separate bowl, whisk the room temperature eggs, one at a time until they are well beaten together. Add the milk to the eggs and blend together. \n",
      "3) Combine: Make a well in the middle of the flour mixture and pour egg mixture into it. Mix until a soft dough forms. The dough should be just thicker than batter; spoon-able but not runny/pourable. Cover bowl with a hand towel and allow dough to rest for about 10 min.\n",
      "4) Cook: Bring 2-3 quarts of lightly salted water to a boil. Scoop about half of the batter into a Spatezle tool, or use the large holes of a grater, colander or steamer basket and use a spatula to push the batter through the holes, into the boiling water.\n",
      "5) Give the dumplings a gentle stir. Cook for 2-3 minutes, until they float to the surface.  Use a slotted spoon to transfer dumplings into a colander to drain and then transfer them to a bowl. Repeat process with remainder of dough. This recipe will cook in two batches.\n",
      "6) Toss with butter and serve warm, OR for a final authentic step, sauté the cooked little dumplings on the stove top in a hot large fry pan with melted butter, flipping just once, until crisp on both sides.\n",
      "\n"
     ]
    }
   ],
   "source": [
    "print(recipe)"
   ]
  },
  {
   "cell_type": "code",
   "execution_count": 19,
   "id": "5bd5fc9e-0397-454b-864e-062574b8a4ca",
   "metadata": {},
   "outputs": [],
   "source": [
    "def scrape_ingredients(dom):\n",
    "    xpath_str = '//ul[@class=\"wprm-recipe-ingredients\"]/li'\n",
    "    ingredients_list = list()\n",
    "    for item in dom.xpath(xpath_str):\n",
    "        # print(item)\n",
    "        ingredient_dict = dict()\n",
    "        ingredient_contents = item.xpath(\"span\")\n",
    "        # print(ingredient_contents)\n",
    "        for ingredient_content in ingredient_contents:\n",
    "            ingredient_content_type = ingredient_content.xpath(\"@class\")[0]\n",
    "            # print(ingredient_content_type)\n",
    "            if ingredient_content_type == \"wprm-recipe-ingredient-name\":\n",
    "                if ingredient_content.text:\n",
    "                    ingredient_name = ingredient_content.text\n",
    "                else:\n",
    "                    ingredient_name = ingredient_content.xpath(\"*\")[0].text\n",
    "                ingredient_dict[\"ingredient_name\"] = ingredient_name\n",
    "            elif ingredient_content_type == \"wprm-recipe-ingredient-unit\":\n",
    "                ingredient_unit = ingredient_content.text\n",
    "                ingredient_dict[\"ingredient_unit\"] = ingredient_unit\n",
    "            elif ingredient_content_type == \"wprm-recipe-ingredient-amount\":\n",
    "                ingredient_amount = ingredient_content.text\n",
    "                ingredient_dict[\"ingredient_amount\"] = ingredient_amount\n",
    "        ingredients_list.append(ingredient_dict)\n",
    "    return ingredients_list"
   ]
  },
  {
   "cell_type": "code",
   "execution_count": 20,
   "id": "67de938f-54f8-43b0-b975-5ad32df791ab",
   "metadata": {},
   "outputs": [],
   "source": [
    "def scrape_recipe(dom):\n",
    "    xpath_str = '//div[@class=\"wprm-recipe-instruction-text\"]'\n",
    "    recipe = \"\"\n",
    "    for idx, div in enumerate(dom.xpath(xpath_str)):\n",
    "        step_text = \"{}) \".format(idx+1)\n",
    "        for steps in div.itertext():\n",
    "            step_text += steps\n",
    "        recipe += step_text + \"\\n\"\n",
    "    return recipe"
   ]
  },
  {
   "cell_type": "code",
   "execution_count": 21,
   "id": "12441f78-41df-4497-b580-518dfc8fef48",
   "metadata": {},
   "outputs": [],
   "source": [
    "from pprint import pprint"
   ]
  },
  {
   "cell_type": "code",
   "execution_count": 22,
   "id": "e4fdfc1b-2f58-47a6-8dea-05763e711a77",
   "metadata": {},
   "outputs": [],
   "source": [
    "def scrape_complete_recipe(dish_name):\n",
    "    content = scraper.get(\"https://tastesbetterfromscratch.com/{}/\".format(dish_name)).text\n",
    "    soup = BeautifulSoup(content, 'html.parser')\n",
    "    body = soup.find(\"body\")\n",
    "    dom = etree.HTML(str(body)) # Parse the HTML content of the page\n",
    "    ingredients_list = scrape_ingredients(dom)\n",
    "    pprint(ingredients_list)\n",
    "    recipe = scrape_recipe(dom)\n",
    "    print(recipe)"
   ]
  },
  {
   "cell_type": "code",
   "execution_count": 23,
   "id": "8fc8bb67-a91a-4266-8e44-87d40803530b",
   "metadata": {},
   "outputs": [
    {
     "name": "stdout",
     "output_type": "stream",
     "text": [
      "[{'ingredient_amount': '2',\n",
      "  'ingredient_name': 'all-purpose flour',\n",
      "  'ingredient_unit': 'cups'},\n",
      " {'ingredient_amount': '1-1/2',\n",
      "  'ingredient_name': 'salt',\n",
      "  'ingredient_unit': 'teaspoon'},\n",
      " {'ingredient_amount': '1/4',\n",
      "  'ingredient_name': 'ground nutmeg',\n",
      "  'ingredient_unit': 'teaspoon'},\n",
      " {'ingredient_amount': '4', 'ingredient_name': 'large eggs'},\n",
      " {'ingredient_amount': '1/2',\n",
      "  'ingredient_name': 'milk',\n",
      "  'ingredient_unit': 'cup'}]\n",
      "1) Dry ingredients: In a medium to large bowl mix together flour, salt and nutmeg.\n",
      "2) Wet ingredients: In a separate bowl, whisk the room temperature eggs, one at a time until they are well beaten together. Add the milk to the eggs and blend together. \n",
      "3) Combine: Make a well in the middle of the flour mixture and pour egg mixture into it. Mix until a soft dough forms. The dough should be just thicker than batter; spoon-able but not runny/pourable. Cover bowl with a hand towel and allow dough to rest for about 10 min.\n",
      "4) Cook: Bring 2-3 quarts of lightly salted water to a boil. Scoop about half of the batter into a Spatezle tool, or use the large holes of a grater, colander or steamer basket and use a spatula to push the batter through the holes, into the boiling water.\n",
      "5) Give the dumplings a gentle stir. Cook for 2-3 minutes, until they float to the surface.  Use a slotted spoon to transfer dumplings into a colander to drain and then transfer them to a bowl. Repeat process with remainder of dough. This recipe will cook in two batches.\n",
      "6) Toss with butter and serve warm, OR for a final authentic step, sauté the cooked little dumplings on the stove top in a hot large fry pan with melted butter, flipping just once, until crisp on both sides.\n",
      "\n"
     ]
    }
   ],
   "source": [
    "scrape_complete_recipe(\"spaetzle\")"
   ]
  },
  {
   "cell_type": "code",
   "execution_count": 24,
   "id": "ad135a1b-f8e9-4496-934f-6d49cc28720d",
   "metadata": {},
   "outputs": [
    {
     "name": "stdout",
     "output_type": "stream",
     "text": [
      "[{'ingredient_amount': '6',\n",
      "  'ingredient_name': 'green cabbage*',\n",
      "  'ingredient_unit': 'cups'},\n",
      " {'ingredient_amount': '4',\n",
      "  'ingredient_name': 'purple cabbage*',\n",
      "  'ingredient_unit': 'cups'},\n",
      " {'ingredient_amount': '1', 'ingredient_name': 'carrot*'},\n",
      " {'ingredient_amount': '4', 'ingredient_name': 'green onions'},\n",
      " {'ingredient_amount': '1/2',\n",
      "  'ingredient_name': 'mayonnaise',\n",
      "  'ingredient_unit': 'cup'},\n",
      " {'ingredient_amount': '1/3',\n",
      "  'ingredient_name': 'buttermilk',\n",
      "  'ingredient_unit': 'cup'},\n",
      " {'ingredient_amount': '1 1/2',\n",
      "  'ingredient_name': 'apple cider vinegar',\n",
      "  'ingredient_unit': 'Tablespoons'},\n",
      " {'ingredient_amount': '1',\n",
      "  'ingredient_name': 'dijon mustard',\n",
      "  'ingredient_unit': 'Tablespoon'},\n",
      " {'ingredient_amount': '1',\n",
      "  'ingredient_name': 'granulated sugar',\n",
      "  'ingredient_unit': 'Tablespoons'},\n",
      " {'ingredient_amount': '1 1/2',\n",
      "  'ingredient_name': 'celery seed',\n",
      "  'ingredient_unit': 'teaspoons'},\n",
      " {'ingredient_amount': '1/2',\n",
      "  'ingredient_name': 'garlic powder',\n",
      "  'ingredient_unit': 'teaspoon'},\n",
      " {'ingredient_amount': '1/2',\n",
      "  'ingredient_name': 'sea salt',\n",
      "  'ingredient_unit': 'teaspoon'},\n",
      " {'ingredient_amount': '1/4',\n",
      "  'ingredient_name': 'freshly ground black pepper',\n",
      "  'ingredient_unit': 'teaspoon'}]\n",
      "1) Add cabbage to an extra-large mixing bowl. Use paper towels to squeeze out any excess moisture form shredded carrot, then add to the bowl along with green onion and toss to combine.\n",
      "2) Dressing: whisk ingredients together in a medium bowl. Taste and adjust seasonings as needed. Pour dressing over veggies and toss well to coat evenly. \n",
      "3) Refrigerate for several hours or overnight before serving, for best results.\n",
      "\n"
     ]
    }
   ],
   "source": [
    "scrape_complete_recipe(\"coleslaw\")"
   ]
  },
  {
   "cell_type": "code",
   "execution_count": 25,
   "id": "f966579b-7fe5-4566-83ca-b6a513362d7e",
   "metadata": {},
   "outputs": [],
   "source": [
    "content = scraper.get(\"https://tastesbetterfromscratch.com/recipe-index/\").text\n",
    "soup = BeautifulSoup(content, 'html.parser')\n",
    "body = soup.find(\"body\")\n",
    "dom = etree.HTML(str(body)) # Parse the HTML content of the page"
   ]
  },
  {
   "cell_type": "code",
   "execution_count": 26,
   "id": "28049d01-1efc-4156-93c8-cf0835f397ec",
   "metadata": {},
   "outputs": [],
   "source": [
    "dish_list = list()"
   ]
  },
  {
   "cell_type": "code",
   "execution_count": 27,
   "id": "95add2ea-d23c-4720-9ab9-9820703520d7",
   "metadata": {},
   "outputs": [
    {
     "name": "stdout",
     "output_type": "stream",
     "text": [
      "https://tastesbetterfromscratch.com/sheet-pan-chicken-fajitas/\n",
      "https://tastesbetterfromscratch.com/buttermilk-pancakes/\n",
      "https://tastesbetterfromscratch.com/beef-stew/\n",
      "https://tastesbetterfromscratch.com/classic-french-toast/\n",
      "https://tastesbetterfromscratch.com/peach-cobbler/\n",
      "https://tastesbetterfromscratch.com/simple-chicken-parmesan/\n",
      "https://tastesbetterfromscratch.com/italian-grinder-chopped-salad/\n",
      "https://tastesbetterfromscratch.com/marinated-flank-steak/\n",
      "https://tastesbetterfromscratch.com/corn-salad/\n",
      "https://tastesbetterfromscratch.com/pupusas/\n",
      "https://tastesbetterfromscratch.com/mexican-quinoa-salad/\n",
      "https://tastesbetterfromscratch.com/hamburger-recipe/\n",
      "https://tastesbetterfromscratch.com/corn-salad/\n",
      "https://tastesbetterfromscratch.com/coleslaw/\n",
      "https://tastesbetterfromscratch.com/mexican-quinoa-salad/\n",
      "https://tastesbetterfromscratch.com/baked-beans/\n",
      "https://tastesbetterfromscratch.com/pickled-red-onions/\n",
      "https://tastesbetterfromscratch.com/gallo-pinto/\n",
      "https://tastesbetterfromscratch.com/crispy-baked-chicken-wings/\n",
      "https://tastesbetterfromscratch.com/spinach-artichoke-dip/\n",
      "https://tastesbetterfromscratch.com/thai-chicken-lettuce-wraps/\n",
      "https://tastesbetterfromscratch.com/classic-cheese-ball/\n",
      "https://tastesbetterfromscratch.com/peach-cobbler/\n",
      "https://tastesbetterfromscratch.com/german-chocolate-cake/\n",
      "https://tastesbetterfromscratch.com/tres-leches-cake/\n",
      "https://tastesbetterfromscratch.com/hersheys-perfectly-chocolate-chocolate-cake/\n",
      "https://tastesbetterfromscratch.com/vanilla-mug-cake/\n",
      "https://tastesbetterfromscratch.com/homemade-caramels/\n",
      "https://tastesbetterfromscratch.com/homemade-eggnog/\n",
      "https://tastesbetterfromscratch.com/horchata/\n",
      "https://tastesbetterfromscratch.com/strawberry-lemonade/\n",
      "https://tastesbetterfromscratch.com/fresh-squeezed-lemonade/\n"
     ]
    }
   ],
   "source": [
    "for item in dom.xpath('//h3[\"@class=post-summary__title\"]'):\n",
    "    print(item.xpath(\"a\")[0].values()[0])\n",
    "    dish_list.append(item.xpath(\"a\")[0].values()[0].split('/')[-2])"
   ]
  },
  {
   "cell_type": "code",
   "execution_count": 28,
   "id": "5e915ef4-8dc3-436b-b095-3f22535aebc0",
   "metadata": {},
   "outputs": [
    {
     "name": "stdout",
     "output_type": "stream",
     "text": [
      "https://tastesbetterfromscratch.com/italian-grinder-chopped-salad/\n",
      "https://tastesbetterfromscratch.com/marinated-flank-steak/\n",
      "https://tastesbetterfromscratch.com/cannoli-cake/\n",
      "https://tastesbetterfromscratch.com/corn-salad/\n",
      "https://tastesbetterfromscratch.com/air-fryer-tofu/\n",
      "https://tastesbetterfromscratch.com/ginger-shots/\n",
      "https://tastesbetterfromscratch.com/ice-cream-sandwiches/\n",
      "https://tastesbetterfromscratch.com/pupusas/\n",
      "https://tastesbetterfromscratch.com/coleslaw/\n",
      "https://tastesbetterfromscratch.com/mexican-quinoa-salad/\n",
      "https://tastesbetterfromscratch.com/rhubarb-pie/\n",
      "https://tastesbetterfromscratch.com/hamburger-recipe/\n",
      "https://tastesbetterfromscratch.com/bbq-menu/\n",
      "https://tastesbetterfromscratch.com/chocolate-crinkle-cookies/\n",
      "https://tastesbetterfromscratch.com/baked-beans/\n",
      "https://tastesbetterfromscratch.com/scotcheroos/\n",
      "https://tastesbetterfromscratch.com/strawberry-rhubarb-crisp/\n",
      "https://tastesbetterfromscratch.com/browned-butter-chocolate-chunk-cookies/\n",
      "https://tastesbetterfromscratch.com/spring-roll-bowl/\n",
      "https://tastesbetterfromscratch.com/mason-jar-salad/\n"
     ]
    }
   ],
   "source": [
    "for item in dom.xpath('//h2[\"@class=post-summary__title\"]'):\n",
    "    if item.getchildren():\n",
    "        if \"meal-plan\" not in item.xpath(\"a\")[0].values()[0]:\n",
    "            print(item.xpath(\"a\")[0].values()[0])\n",
    "            dish_list.append(item.xpath(\"a\")[0].values()[0].split('/')[-2])"
   ]
  },
  {
   "cell_type": "code",
   "execution_count": null,
   "id": "88b82ad9-ebe6-4227-a899-bbf7a495f898",
   "metadata": {},
   "outputs": [],
   "source": [
    "dish_list"
   ]
  },
  {
   "cell_type": "code",
   "execution_count": null,
   "id": "63dc4297-e024-4afa-926b-40c895dcad29",
   "metadata": {},
   "outputs": [],
   "source": [
    "len(dish_list)"
   ]
  },
  {
   "cell_type": "code",
   "execution_count": null,
   "id": "889de4b3-162f-4c85-bc83-4676fbea7e11",
   "metadata": {},
   "outputs": [],
   "source": []
  }
 ],
 "metadata": {
  "kernelspec": {
   "display_name": "Python 3 (ipykernel)",
   "language": "python",
   "name": "python3"
  },
  "language_info": {
   "codemirror_mode": {
    "name": "ipython",
    "version": 3
   },
   "file_extension": ".py",
   "mimetype": "text/x-python",
   "name": "python",
   "nbconvert_exporter": "python",
   "pygments_lexer": "ipython3",
   "version": "3.10.14"
  }
 },
 "nbformat": 4,
 "nbformat_minor": 5
}
